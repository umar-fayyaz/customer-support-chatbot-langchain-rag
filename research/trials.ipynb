{
 "cells": [
  {
   "cell_type": "code",
   "execution_count": 12,
   "id": "afb4bb69",
   "metadata": {},
   "outputs": [],
   "source": [
    "import getpass\n",
    "import os\n",
    "\n",
    "if not os.environ.get(\"OPENAI_API_KEY\"):\n",
    "  os.environ[\"OPENAI_API_KEY\"] = getpass.getpass(\"OPENAI_API_KEY\")\n",
    "\n",
    "from langchain.chat_models import init_chat_model\n",
    "\n",
    "llm = init_chat_model(\"gpt-4.1-nano\", model_provider=\"openai\")"
   ]
  },
  {
   "cell_type": "code",
   "execution_count": 13,
   "id": "000d06ad",
   "metadata": {},
   "outputs": [],
   "source": [
    "import getpass\n",
    "import os\n",
    "\n",
    "if not os.environ.get(\"OPENAI_API_KEY\"):\n",
    "  os.environ[\"OPENAI_API_KEY\"] = getpass.getpass(\"OPENAI_API_KEY\")\n",
    "\n",
    "from langchain_openai import OpenAIEmbeddings\n",
    "embeddings = OpenAIEmbeddings(model=\"text-embedding-3-small\")"
   ]
  },
  {
   "cell_type": "code",
   "execution_count": 1,
   "id": "34de3b5b",
   "metadata": {},
   "outputs": [
    {
     "name": "stdout",
     "output_type": "stream",
     "text": [
      "Ok\n"
     ]
    }
   ],
   "source": [
    "print(\"Ok\")"
   ]
  },
  {
   "cell_type": "code",
   "execution_count": 2,
   "id": "c7fee145",
   "metadata": {},
   "outputs": [
    {
     "data": {
      "text/plain": [
       "'c:\\\\Users\\\\PMYLS\\\\customer-support-chatbot\\\\research'"
      ]
     },
     "execution_count": 2,
     "metadata": {},
     "output_type": "execute_result"
    }
   ],
   "source": [
    "%pwd"
   ]
  },
  {
   "cell_type": "code",
   "execution_count": 3,
   "id": "3a3b7d56",
   "metadata": {},
   "outputs": [],
   "source": [
    "import os\n",
    "os.chdir(\"../\")"
   ]
  },
  {
   "cell_type": "code",
   "execution_count": 4,
   "id": "09ce222b",
   "metadata": {},
   "outputs": [
    {
     "data": {
      "text/plain": [
       "'c:\\\\Users\\\\PMYLS\\\\customer-support-chatbot'"
      ]
     },
     "execution_count": 4,
     "metadata": {},
     "output_type": "execute_result"
    }
   ],
   "source": [
    "%pwd"
   ]
  },
  {
   "cell_type": "code",
   "execution_count": 5,
   "id": "db28430b",
   "metadata": {},
   "outputs": [],
   "source": [
    "from langchain.document_loaders import PyPDFLoader, DirectoryLoader\n",
    "from langchain.text_splitter import RecursiveCharacterTextSplitter"
   ]
  },
  {
   "cell_type": "code",
   "execution_count": 6,
   "id": "defc41f3",
   "metadata": {},
   "outputs": [],
   "source": [
    "#Extract Data From the PDF File\n",
    "def load_pdf_file(data):\n",
    "    loader= DirectoryLoader(data,\n",
    "                            glob=\"*.pdf\",\n",
    "                            loader_cls=PyPDFLoader)\n",
    "\n",
    "    documents=loader.load()\n",
    "\n",
    "    return documents\n"
   ]
  },
  {
   "cell_type": "code",
   "execution_count": 7,
   "id": "31548688",
   "metadata": {},
   "outputs": [],
   "source": [
    "extracted_data=load_pdf_file(data='Data/')"
   ]
  },
  {
   "cell_type": "code",
   "execution_count": 10,
   "id": "148ceba4",
   "metadata": {},
   "outputs": [],
   "source": [
    "#Split the Data into Text Chunks\n",
    "def text_split(extracted_data):\n",
    "    text_splitter=RecursiveCharacterTextSplitter(chunk_size=800, chunk_overlap=200)\n",
    "    text_chunks=text_splitter.split_documents(extracted_data)\n",
    "    return text_chunks"
   ]
  },
  {
   "cell_type": "code",
   "execution_count": 11,
   "id": "51af05cf",
   "metadata": {},
   "outputs": [
    {
     "name": "stdout",
     "output_type": "stream",
     "text": [
      "Length of Text Chunks 94\n"
     ]
    }
   ],
   "source": [
    "text_chunks=text_split(extracted_data)\n",
    "print(\"Length of Text Chunks\", len(text_chunks))"
   ]
  },
  {
   "cell_type": "code",
   "execution_count": 14,
   "id": "bc912bb0",
   "metadata": {},
   "outputs": [],
   "source": [
    "#Open AI embeddings\n",
    "def download_hugging_face_embeddings():\n",
    "    embeddings=embeddings\n",
    "    return embeddings\n"
   ]
  },
  {
   "cell_type": "code",
   "execution_count": 15,
   "id": "8108819b",
   "metadata": {},
   "outputs": [
    {
     "name": "stdout",
     "output_type": "stream",
     "text": [
      "Length 1536\n"
     ]
    }
   ],
   "source": [
    "## Test the model\n",
    "query_result = embeddings.embed_query(\"Hello world\")\n",
    "print(\"Length\", len(query_result))"
   ]
  },
  {
   "cell_type": "markdown",
   "id": "bf4691df",
   "metadata": {},
   "source": [
    "## Set up pincone\n"
   ]
  },
  {
   "cell_type": "code",
   "execution_count": 16,
   "id": "c0648282",
   "metadata": {},
   "outputs": [
    {
     "data": {
      "text/plain": [
       "True"
      ]
     },
     "execution_count": 16,
     "metadata": {},
     "output_type": "execute_result"
    }
   ],
   "source": [
    "from dotenv import load_dotenv\n",
    "load_dotenv()"
   ]
  },
  {
   "cell_type": "code",
   "execution_count": 17,
   "id": "447767ea",
   "metadata": {},
   "outputs": [],
   "source": [
    "PINECONE_API_KEY=os.environ.get('PINECONE_API_KEY')\n"
   ]
  },
  {
   "cell_type": "code",
   "execution_count": 20,
   "id": "57241c7d",
   "metadata": {},
   "outputs": [],
   "source": [
    "from pinecone.grpc import PineconeGRPC as Pinecone\n",
    "from pinecone import ServerlessSpec\n",
    "import os\n",
    "\n",
    "cscpc = Pinecone(api_key=PINECONE_API_KEY)"
   ]
  },
  {
   "cell_type": "code",
   "execution_count": 25,
   "id": "a9b9a602",
   "metadata": {},
   "outputs": [],
   "source": [
    "from langchain_pinecone import PineconeVectorStore\n",
    "\n",
    "index_name = \"remote-lock\"\n",
    "\n",
    "docsearch = PineconeVectorStore.from_documents(\n",
    "    documents=text_chunks,\n",
    "    embedding=embeddings,\n",
    "    index_name=index_name\n",
    ")\n"
   ]
  },
  {
   "cell_type": "code",
   "execution_count": 26,
   "id": "640381a0",
   "metadata": {},
   "outputs": [],
   "source": [
    "from langchain_pinecone import PineconeVectorStore\n",
    "# Embed each chunk and upsert the embeddings into your Pinecone index.\n",
    "dense_vector = PineconeVectorStore.from_existing_index(\n",
    "    index_name=index_name,\n",
    "    embedding=embeddings\n",
    ")"
   ]
  },
  {
   "cell_type": "code",
   "execution_count": 27,
   "id": "0285df1a",
   "metadata": {},
   "outputs": [],
   "source": [
    "dense_retriever = dense_vector.as_retriever(search_type=\"similarity\", search_kwargs={\"k\":3})"
   ]
  },
  {
   "cell_type": "code",
   "execution_count": 28,
   "id": "c238ef31",
   "metadata": {},
   "outputs": [
    {
     "data": {
      "text/plain": [
       "[Document(id='7445c5f2-38bb-483b-a966-9a18b5e9d92d', metadata={'author': '', 'creationdate': '2025-08-27T12:43:18+05:00', 'creator': 'PyPDF', 'moddate': '2025-08-27T12:43:18+05:00', 'page': 36.0, 'page_label': '37', 'producer': 'Microsoft: Print To PDF', 'source': 'Data\\\\rdoc.pdf', 'title': 'Microsoft Word - remote lock data.docx', 'total_pages': 41.0}, page_content='Why RemoteLock? \\nProperty managers of multiple (more than five) properties or units choose RemoteLock for \\nthree key reasons: \\n\\uf0b7 Flexible scheduling capabilities. Create door groups, limited access for maintenance and \\ncleaning crews and access to shared and common doors. \\n\\uf0b7 No unique hardware is required. RemoteLock is compatible with many leading smart \\nlock brands. See all hardware. \\n\\uf0b7 Integrated with your property management or booking software. Easily generate and \\ntrack access codes through your preferred dashboard. See all software partners. \\nSoftware Features \\nRemotely Control Locks & Manage Users \\nControl connected locks and manage users from your smartphone or laptop, from anywhere. \\nAutomate Guest Access'),\n",
       " Document(id='3270aac7-8324-4d30-b084-32cf4f2a8ba6', metadata={'author': '', 'creationdate': '2025-08-27T12:43:18+05:00', 'creator': 'PyPDF', 'moddate': '2025-08-27T12:43:18+05:00', 'page': 36.0, 'page_label': '37', 'producer': 'Microsoft: Print To PDF', 'source': 'Data\\\\rdoc.pdf', 'title': 'Microsoft Word - remote lock data.docx', 'total_pages': 41.0}, page_content='Software Features \\nRemotely Control Locks & Manage Users \\nControl connected locks and manage users from your smartphone or laptop, from anywhere. \\nAutomate Guest Access \\nAutomate the delivery of guest access codes for vacation rental guests or multifamily residents. \\nDeep Hardware Integrations \\nGet the locks that fit your budget, application and aesthetic. RemoteLock is compatible with \\nmany of the industry’s popular lock brands. \\nEnjoy One System For All Doors \\nNeed to control hardwired doors like main entrances, garages or elevators? Or do you manage \\nmultiple properties? View your whole portfolio in one system. \\nCustomize Schedules \\nLimit user access by creating schedules like 9-5, Monday–Friday. Or create device schedules for \\na door to lock/unlock at a specific time everyday.'),\n",
       " Document(id='854fd19e-c4da-4b78-a4b9-85cbb7c82e43', metadata={'author': '', 'creationdate': '2025-08-27T12:43:18+05:00', 'creator': 'PyPDF', 'moddate': '2025-08-27T12:43:18+05:00', 'page': 5.0, 'page_label': '6', 'producer': 'Microsoft: Print To PDF', 'source': 'Data\\\\rdoc.pdf', 'title': 'Microsoft Word - remote lock data.docx', 'total_pages': 41.0}, page_content='o Log in → Devices → Select device → Settings → Copy info → Delete & Save. \\n4. Factory Reset the Lock \\no PROGRAMMING CODE > # > 135 > # \\no For 5i models, replace # with the LOCKSTATE button. \\n5. Clear WiFi Network Info \\no PROGRAMMING CODE > # > 312 > # \\no For 5i models, use LOCKSTATE instead of #. \\n6. Give the new owner the account creation link. \\nEnsure the lock is fully deleted from your portal before giving it to the new owner. \\n \\nSafes \\n\\uf0b7 RemoteLock does not provide spare keys for safes (new or used, even with proof of \\npurchase). \\n\\uf0b7 For access or re-keying, please contact a licensed locksmith. \\n \\nImportant Note \\n\\uf0b7 If you no longer plan to use RemoteLock services, visit Billing → Cancel Subscription \\nto stop future charges. \\n\\uf0b7 For assistance, please contact support.')]"
      ]
     },
     "execution_count": 28,
     "metadata": {},
     "output_type": "execute_result"
    }
   ],
   "source": [
    "dense_retriever.invoke(\"what is remote lock?\")"
   ]
  },
  {
   "cell_type": "code",
   "execution_count": 29,
   "id": "03aec116",
   "metadata": {},
   "outputs": [],
   "source": [
    "from langchain_community.retrievers import BM25Retriever\n",
    "from langchain.retrievers import EnsembleRetriever"
   ]
  },
  {
   "cell_type": "code",
   "execution_count": 31,
   "id": "885a2a56",
   "metadata": {},
   "outputs": [],
   "source": [
    "sparse_retriever=BM25Retriever.from_documents(text_chunks)\n",
    "sparse_retriever.k=3 ##top- k documents to retriever"
   ]
  },
  {
   "cell_type": "code",
   "execution_count": 32,
   "id": "0ca9f221",
   "metadata": {},
   "outputs": [],
   "source": [
    "hybrid_retriever=EnsembleRetriever(\n",
    "    retrievers=[dense_retriever,sparse_retriever],\n",
    "    weight=[0.7,0.3]\n",
    ")"
   ]
  },
  {
   "cell_type": "code",
   "execution_count": 33,
   "id": "b4c02a93",
   "metadata": {},
   "outputs": [
    {
     "name": "stdout",
     "output_type": "stream",
     "text": [
      "\n",
      "🔹 Document 1:\n",
      "Why RemoteLock? \n",
      "Property managers of multiple (more than five) properties or units choose RemoteLock for \n",
      "three key reasons: \n",
      " Flexible scheduling capabilities. Create door groups, limited access for maintenance and \n",
      "cleaning crews and access to shared and common doors. \n",
      " No unique hardware is required. RemoteLock is compatible with many leading smart \n",
      "lock brands. See all hardware. \n",
      " Integrated with your property management or booking software. Easily generate and \n",
      "track access codes through your preferred dashboard. See all software partners. \n",
      "Software Features \n",
      "Remotely Control Locks & Manage Users \n",
      "Control connected locks and manage users from your smartphone or laptop, from anywhere. \n",
      "Automate Guest Access\n",
      "\n",
      "🔹 Document 2:\n",
      "Integrations: Dozens of leading hardware and software providers (logos shown). See Software \n",
      "Partners and Hardware Partners pages. \n",
      "Customer quotes (examples): \n",
      " “The fact that RemoteLock works with a variety of smart lock brands is a big advantage. \n",
      "In most cases, we didn’t have to rip and replace hardware.” — Nick G., Director of \n",
      "Access & Utilities | Landing \n",
      " “They helped me choose a great lock for my vacation rental. It’s easy to program with \n",
      "guest and user codes and the annual fee is very inexpensive.” — Maureen M., Vacation \n",
      "Rental Owner \n",
      " “The number one advantage with RemoteLock is that multiple managers can manage \n",
      "multiple property access all from our desks.” — Rob. P, RedPeak Community Manager\n",
      "\n",
      "🔹 Document 3:\n",
      "Software Features \n",
      "Remotely Control Locks & Manage Users \n",
      "Control connected locks and manage users from your smartphone or laptop, from anywhere. \n",
      "Automate Guest Access \n",
      "Automate the delivery of guest access codes for vacation rental guests or multifamily residents. \n",
      "Deep Hardware Integrations \n",
      "Get the locks that fit your budget, application and aesthetic. RemoteLock is compatible with \n",
      "many of the industry’s popular lock brands. \n",
      "Enjoy One System For All Doors \n",
      "Need to control hardwired doors like main entrances, garages or elevators? Or do you manage \n",
      "multiple properties? View your whole portfolio in one system. \n",
      "Customize Schedules \n",
      "Limit user access by creating schedules like 9-5, Monday–Friday. Or create device schedules for \n",
      "a door to lock/unlock at a specific time everyday.\n",
      "\n",
      "🔹 Document 4:\n",
      "8. Click Import. \n",
      "✅ Your KoreLine device is now integrated with RemoteLock. You can create access \n",
      "users/guests, link to property management systems, and monitor events. \n",
      " \n",
      "FAQs \n",
      "Q: Why is this process different from older KeyInCode devices? \n",
      "A: KoreLine locks use a new smart lock platform to improve onboarding and connectivity while \n",
      "maintaining familiar hardware. \n",
      "Q: Where can I change device settings (e.g., heartbeat)? \n",
      "A: Settings are managed in the KeyInCode mobile app. \n",
      "Q: How do I use Access Schedules? \n",
      "A: Scheduling support is being finalized and will be available in future updates. \n",
      "Q: Why am I receiving an error when importing? \n",
      "A: Ensure the lock is: \n",
      " Connected to Wi-Fi, and \n",
      " A Location exists in RemoteLock before attempting the import.\n",
      "\n",
      "🔹 Document 5:\n",
      "o Log in → Devices → Select device → Settings → Copy info → Delete & Save. \n",
      "4. Factory Reset the Lock \n",
      "o PROGRAMMING CODE > # > 135 > # \n",
      "o For 5i models, replace # with the LOCKSTATE button. \n",
      "5. Clear WiFi Network Info \n",
      "o PROGRAMMING CODE > # > 312 > # \n",
      "o For 5i models, use LOCKSTATE instead of #. \n",
      "6. Give the new owner the account creation link. \n",
      "Ensure the lock is fully deleted from your portal before giving it to the new owner. \n",
      " \n",
      "Safes \n",
      " RemoteLock does not provide spare keys for safes (new or used, even with proof of \n",
      "purchase). \n",
      " For access or re-keying, please contact a licensed locksmith. \n",
      " \n",
      "Important Note \n",
      " If you no longer plan to use RemoteLock services, visit Billing → Cancel Subscription \n",
      "to stop future charges. \n",
      " For assistance, please contact support.\n",
      "\n",
      "🔹 Document 6:\n",
      " Credit card subscriptions: The system retries every 7 days or immediately when the \n",
      "card is updated, depending on the subscription type. \n",
      " Prepaid Credit subscriptions: This option is no longer supported. You must cancel your \n",
      "prepaid subscription and reactivate with a card-based subscription. \n",
      " \n",
      "Example Timeline \n",
      " March 1 – Email reminder is sent about the upcoming subscription renewal. \n",
      " March 8 (1st Attempt) – The first charge attempt. If it fails: \n",
      "o You’ll receive an email stating the card was declined. \n",
      "o The account owner will be directed to log in and update the card on file. \n",
      " March 15 (2nd Attempt) – Second charge attempt, with another email notification. \n",
      " March 22 (3rd Attempt) – Third charge attempt, with another email notification.\n"
     ]
    }
   ],
   "source": [
    "query = \"what is remote lock?\"\n",
    "results = hybrid_retriever.invoke(query)\n",
    "\n",
    "for i, doc in enumerate(results):\n",
    "    print(f\"\\n🔹 Document {i+1}:\\n{doc.page_content}\")"
   ]
  },
  {
   "cell_type": "code",
   "execution_count": 34,
   "id": "46c66987",
   "metadata": {},
   "outputs": [],
   "source": [
    "from langchain.prompts import PromptTemplate\n",
    "from langchain.chains.combine_documents import create_stuff_documents_chain\n",
    "from langchain.chains.retrieval import create_retrieval_chain"
   ]
  },
  {
   "cell_type": "code",
   "execution_count": 36,
   "id": "e220f04e",
   "metadata": {},
   "outputs": [],
   "source": [
    "prompt = PromptTemplate.from_template(\"\"\"\n",
    "Answer the question based on the context below.\n",
    "\n",
    "Context:\n",
    "{context}\n",
    "\n",
    "Question: {input}\n",
    "\"\"\")"
   ]
  },
  {
   "cell_type": "code",
   "execution_count": 37,
   "id": "45f759eb",
   "metadata": {},
   "outputs": [
    {
     "data": {
      "text/plain": [
       "RunnableBinding(bound=RunnableAssign(mapper={\n",
       "  context: RunnableBinding(bound=RunnableLambda(lambda x: x['input'])\n",
       "           | EnsembleRetriever(retrievers=[VectorStoreRetriever(tags=['PineconeVectorStore', 'OpenAIEmbeddings'], vectorstore=<langchain_pinecone.vectorstores.PineconeVectorStore object at 0x0000013CB5791CC0>, search_kwargs={'k': 3}), BM25Retriever(vectorizer=<rank_bm25.BM25Okapi object at 0x0000013CB5CDEAA0>, k=3)], weights=[0.5, 0.5]), kwargs={}, config={'run_name': 'retrieve_documents'}, config_factories=[])\n",
       "})\n",
       "| RunnableAssign(mapper={\n",
       "    answer: RunnableBinding(bound=RunnableBinding(bound=RunnableAssign(mapper={\n",
       "              context: RunnableLambda(format_docs)\n",
       "            }), kwargs={}, config={'run_name': 'format_inputs'}, config_factories=[])\n",
       "            | PromptTemplate(input_variables=['context', 'input'], input_types={}, partial_variables={}, template='\\nAnswer the question based on the context below.\\n\\nContext:\\n{context}\\n\\nQuestion: {input}\\n')\n",
       "            | ChatOpenAI(client=<openai.resources.chat.completions.completions.Completions object at 0x0000013CAEBE5C60>, async_client=<openai.resources.chat.completions.completions.AsyncCompletions object at 0x0000013CB00D63E0>, root_client=<openai.OpenAI object at 0x0000013CAE005510>, root_async_client=<openai.AsyncOpenAI object at 0x0000013CB00D6350>, model_name='gpt-4.1-nano', model_kwargs={}, openai_api_key=SecretStr('**********'))\n",
       "            | StrOutputParser(), kwargs={}, config={'run_name': 'stuff_documents_chain'}, config_factories=[])\n",
       "  }), kwargs={}, config={'run_name': 'retrieval_chain'}, config_factories=[])"
      ]
     },
     "execution_count": 37,
     "metadata": {},
     "output_type": "execute_result"
    }
   ],
   "source": [
    "### Create stuff Docuemnt Chain\n",
    "document_chain=create_stuff_documents_chain(llm=llm,prompt=prompt)\n",
    "\n",
    "## create Full rAg chain\n",
    "rag_chain=create_retrieval_chain(retriever=hybrid_retriever,combine_docs_chain=document_chain)\n",
    "rag_chain\n"
   ]
  },
  {
   "cell_type": "code",
   "execution_count": 39,
   "id": "7cf432f8",
   "metadata": {},
   "outputs": [
    {
     "name": "stdout",
     "output_type": "stream",
     "text": [
      "To access and modify your account settings, follow these steps:\n",
      "\n",
      "1. Click the drop-down menu next to your account name located in the top-right corner of the interface.\n",
      "2. Select **My Account** from the options presented.\n",
      "3. In the **Profile Management** section under **My Account → Profile**, you can:\n",
      "   - Edit your name, email, and username.\n",
      "   - Change your password.\n",
      "   - Add a phone number for Two-Factor Authentication (2FA).\n",
      "4. After making any desired changes, be sure to click **Save** to confirm updates.\n"
     ]
    }
   ],
   "source": [
    "response = rag_chain.invoke({\"input\": \"How do i my account settings\"})\n",
    "print(response[\"answer\"])"
   ]
  }
 ],
 "metadata": {
  "kernelspec": {
   "display_name": "customer_bot",
   "language": "python",
   "name": "python3"
  },
  "language_info": {
   "codemirror_mode": {
    "name": "ipython",
    "version": 3
   },
   "file_extension": ".py",
   "mimetype": "text/x-python",
   "name": "python",
   "nbconvert_exporter": "python",
   "pygments_lexer": "ipython3",
   "version": "3.10.18"
  }
 },
 "nbformat": 4,
 "nbformat_minor": 5
}
